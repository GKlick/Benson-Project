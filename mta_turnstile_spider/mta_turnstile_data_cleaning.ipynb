{
 "cells": [
  {
   "cell_type": "code",
   "execution_count": 1,
   "metadata": {},
   "outputs": [
    {
     "name": "stdout",
     "output_type": "stream",
     "text": [
      "\u001b[1m\u001b[36mbuild\u001b[m\u001b[m/                             \u001b[1m\u001b[36mproject.egg-info\u001b[m\u001b[m/\r\n",
      "mta_turnstile_data_cleaning.ipynb  \u001b[31mscrapinghub.yml\u001b[m\u001b[m*\r\n",
      "mta_turnstile_sept_25.csv          \u001b[31mscrapy.cfg\u001b[m\u001b[m*\r\n",
      "\u001b[1m\u001b[36mmta_turnstile_spider\u001b[m\u001b[m/              \u001b[31msetup.py\u001b[m\u001b[m*\r\n"
     ]
    }
   ],
   "source": [
    "ls"
   ]
  },
  {
   "cell_type": "code",
   "execution_count": 2,
   "metadata": {},
   "outputs": [],
   "source": [
    "import pandas as pd\n",
    "import numpy as np"
   ]
  },
  {
   "cell_type": "code",
   "execution_count": 3,
   "metadata": {},
   "outputs": [],
   "source": [
    "pd.set_option('display.max_colwidth', 1000)"
   ]
  },
  {
   "cell_type": "markdown",
   "metadata": {},
   "source": [
    "Starting with ALL data from MTA website."
   ]
  },
  {
   "cell_type": "code",
   "execution_count": 4,
   "metadata": {},
   "outputs": [],
   "source": [
    "df = pd.read_csv('mta_turnstile_sept_25.csv')"
   ]
  },
  {
   "cell_type": "code",
   "execution_count": 5,
   "metadata": {},
   "outputs": [
    {
     "data": {
      "text/html": [
       "<div>\n",
       "<style scoped>\n",
       "    .dataframe tbody tr th:only-of-type {\n",
       "        vertical-align: middle;\n",
       "    }\n",
       "\n",
       "    .dataframe tbody tr th {\n",
       "        vertical-align: top;\n",
       "    }\n",
       "\n",
       "    .dataframe thead th {\n",
       "        text-align: right;\n",
       "    }\n",
       "</style>\n",
       "<table border=\"1\" class=\"dataframe\">\n",
       "  <thead>\n",
       "    <tr style=\"text-align: right;\">\n",
       "      <th></th>\n",
       "      <th>turnstile_recordings</th>\n",
       "      <th>week_url</th>\n",
       "    </tr>\n",
       "  </thead>\n",
       "  <tbody>\n",
       "    <tr>\n",
       "      <th>0</th>\n",
       "      <td>A002,R051,02-00-00,59 ST,NQR456W,BMT,01/13/2018,03:00:00,REGULAR,0006478878,0002193318                                            ,A002,R051,02-00-00,59 ST,NQR456W,BMT,01/13/2018,07:00:00,REGULAR,0006478889,0002193326                                            ,A002,R051,02-00-00,59 ST,NQR456W,BMT,01/13/2018,11:00:00,REGULAR,0006478928,0002193408                                            ,A002,R051,02-00-00,59 ST,NQR456W,BMT,01/13/2018,15:00:00,REGULAR,0006479103,0002193469                                            ,A002,R051,02-00-00,59 ST,NQR456W,BMT,01/13/2018,19:00:00,REGULAR,0006479412,0002193524                                            ,A002,R051,02-00-00,59 ST,NQR456W,BMT,01/13/2018,23:00:00,REGULAR,0006479518,0002193563                                            ,A002,R051,02-00-00,59 ST,NQR456W,BMT,01/14/2018,03:00:00,REGULAR,0006479547,0002193570                                            ,A002,R051,02-00-00,59 ST,NQR456W,BMT,01/14/2018,07:00:00,REGULAR,0006479552,000...</td>\n",
       "      <td>http://web.mta.info/developers/data/nyct/turnstile/turnstile_180120.txt</td>\n",
       "    </tr>\n",
       "  </tbody>\n",
       "</table>\n",
       "</div>"
      ],
      "text/plain": [
       "                                                                                                                                                                                                                                                                                                                                                                                                                                                                                                                                                                                                                                                                                                                                                                                                                                                                                                                                                                                                                      turnstile_recordings  \\\n",
       "0  A002,R051,02-00-00,59 ST,NQR456W,BMT,01/13/2018,03:00:00,REGULAR,0006478878,0002193318                                            ,A002,R051,02-00-00,59 ST,NQR456W,BMT,01/13/2018,07:00:00,REGULAR,0006478889,0002193326                                            ,A002,R051,02-00-00,59 ST,NQR456W,BMT,01/13/2018,11:00:00,REGULAR,0006478928,0002193408                                            ,A002,R051,02-00-00,59 ST,NQR456W,BMT,01/13/2018,15:00:00,REGULAR,0006479103,0002193469                                            ,A002,R051,02-00-00,59 ST,NQR456W,BMT,01/13/2018,19:00:00,REGULAR,0006479412,0002193524                                            ,A002,R051,02-00-00,59 ST,NQR456W,BMT,01/13/2018,23:00:00,REGULAR,0006479518,0002193563                                            ,A002,R051,02-00-00,59 ST,NQR456W,BMT,01/14/2018,03:00:00,REGULAR,0006479547,0002193570                                            ,A002,R051,02-00-00,59 ST,NQR456W,BMT,01/14/2018,07:00:00,REGULAR,0006479552,000...   \n",
       "\n",
       "                                                                  week_url  \n",
       "0  http://web.mta.info/developers/data/nyct/turnstile/turnstile_180120.txt  "
      ]
     },
     "execution_count": 5,
     "metadata": {},
     "output_type": "execute_result"
    }
   ],
   "source": [
    "df.head(1)"
   ]
  },
  {
   "cell_type": "code",
   "execution_count": 6,
   "metadata": {},
   "outputs": [
    {
     "data": {
      "text/plain": [
       "Index(['turnstile_recordings', 'week_url'], dtype='object')"
      ]
     },
     "execution_count": 6,
     "metadata": {},
     "output_type": "execute_result"
    }
   ],
   "source": [
    "df.columns"
   ]
  },
  {
   "cell_type": "code",
   "execution_count": 7,
   "metadata": {},
   "outputs": [],
   "source": [
    "n = 0\n",
    "turnstile_list_years = []\n",
    "for week in df['turnstile_recordings']:\n",
    "    if '/2017' in df.loc[n, 'turnstile_recordings'] or '/2018' in df.loc[n, 'turnstile_recordings']:\n",
    "        turnstile_list_years.append(df.loc[n, 'turnstile_recordings'])\n",
    "        n += 1\n",
    "    else:\n",
    "        n+= 1"
   ]
  },
  {
   "cell_type": "code",
   "execution_count": 8,
   "metadata": {},
   "outputs": [
    {
     "data": {
      "text/plain": [
       "90"
      ]
     },
     "execution_count": 8,
     "metadata": {},
     "output_type": "execute_result"
    }
   ],
   "source": [
    "len(turnstile_list_years)"
   ]
  },
  {
   "cell_type": "code",
   "execution_count": 9,
   "metadata": {},
   "outputs": [],
   "source": [
    "n = 0\n",
    "turnstile_list_months = []\n",
    "for week in turnstile_list_years:\n",
    "    if ',05/' in turnstile_list_years[n] or ',06/' in turnstile_list_years[n] or ',07/' in turnstile_list_years[n]:\n",
    "        turnstile_list_months.append(turnstile_list_years[n])\n",
    "        n += 1\n",
    "    else:\n",
    "        n+= 1"
   ]
  },
  {
   "cell_type": "code",
   "execution_count": 10,
   "metadata": {},
   "outputs": [
    {
     "data": {
      "text/plain": [
       "28"
      ]
     },
     "execution_count": 10,
     "metadata": {},
     "output_type": "execute_result"
    }
   ],
   "source": [
    "len(turnstile_list_months)"
   ]
  },
  {
   "cell_type": "code",
   "execution_count": 11,
   "metadata": {},
   "outputs": [],
   "source": [
    "turnstile_list_months_split = str(turnstile_list_months).split(',')"
   ]
  },
  {
   "cell_type": "code",
   "execution_count": 12,
   "metadata": {},
   "outputs": [],
   "source": [
    "c_a = pd.DataFrame(turnstile_list_months_split[0::11])\n",
    "c_a.rename({0: 'c_a'}, axis = 'columns', inplace = True)\n",
    "unit = pd.DataFrame(turnstile_list_months_split[1::11])\n",
    "unit.rename({0: 'unit'}, axis = 'columns', inplace = True)\n",
    "scp = pd.DataFrame(turnstile_list_months_split[2::11])\n",
    "scp.rename({0: 'scp'}, axis = 'columns', inplace = True)\n",
    "station = pd.DataFrame(turnstile_list_months_split[3::11])\n",
    "station.rename({0: 'station'}, axis = 'columns', inplace = True)\n",
    "linename = pd.DataFrame(turnstile_list_months_split[4::11])\n",
    "linename.rename({0: 'linename'}, axis = 'columns', inplace = True)\n",
    "division = pd.DataFrame(turnstile_list_months_split[5::11])\n",
    "division.rename({0: 'division'}, axis = 'columns', inplace = True)\n",
    "data = pd.DataFrame(turnstile_list_months_split[6::11])\n",
    "data.rename({0: 'data'}, axis = 'columns', inplace = True)\n",
    "time = pd.DataFrame(turnstile_list_months_split[7::11])\n",
    "time.rename({0: 'time'}, axis = 'columns', inplace = True)\n",
    "desc = pd.DataFrame(turnstile_list_months_split[8::11])\n",
    "desc.rename({0: 'desc'}, axis = 'columns', inplace = True)\n",
    "entries = pd.DataFrame(turnstile_list_months_split[9::11])\n",
    "entries.rename({0: 'entries'}, axis = 'columns', inplace = True)\n",
    "exits = pd.DataFrame(turnstile_list_months_split[10::11])\n",
    "exits.rename({0: 'exits'}, axis = 'columns', inplace = True)"
   ]
  },
  {
   "cell_type": "markdown",
   "metadata": {},
   "source": [
    "Final DataFrame includes only May, June and July from 2017 and 2018."
   ]
  },
  {
   "cell_type": "code",
   "execution_count": 13,
   "metadata": {},
   "outputs": [],
   "source": [
    "df = pd.concat([c_a, unit, scp, station, linename, division, data, time, desc, entries, exits], axis = 1, join = 'outer')"
   ]
  },
  {
   "cell_type": "code",
   "execution_count": 14,
   "metadata": {},
   "outputs": [
    {
     "data": {
      "text/html": [
       "<div>\n",
       "<style scoped>\n",
       "    .dataframe tbody tr th:only-of-type {\n",
       "        vertical-align: middle;\n",
       "    }\n",
       "\n",
       "    .dataframe tbody tr th {\n",
       "        vertical-align: top;\n",
       "    }\n",
       "\n",
       "    .dataframe thead th {\n",
       "        text-align: right;\n",
       "    }\n",
       "</style>\n",
       "<table border=\"1\" class=\"dataframe\">\n",
       "  <thead>\n",
       "    <tr style=\"text-align: right;\">\n",
       "      <th></th>\n",
       "      <th>c_a</th>\n",
       "      <th>unit</th>\n",
       "      <th>scp</th>\n",
       "      <th>station</th>\n",
       "      <th>linename</th>\n",
       "      <th>division</th>\n",
       "      <th>data</th>\n",
       "      <th>time</th>\n",
       "      <th>desc</th>\n",
       "      <th>entries</th>\n",
       "      <th>exits</th>\n",
       "    </tr>\n",
       "  </thead>\n",
       "  <tbody>\n",
       "    <tr>\n",
       "      <th>0</th>\n",
       "      <td>[\"A002</td>\n",
       "      <td>R051</td>\n",
       "      <td>02-00-00</td>\n",
       "      <td>59 ST</td>\n",
       "      <td>NQR456W</td>\n",
       "      <td>BMT</td>\n",
       "      <td>04/29/2017</td>\n",
       "      <td>00:00:00</td>\n",
       "      <td>REGULAR</td>\n",
       "      <td>0006157740</td>\n",
       "      <td>0002085315</td>\n",
       "    </tr>\n",
       "    <tr>\n",
       "      <th>1</th>\n",
       "      <td>A002</td>\n",
       "      <td>R051</td>\n",
       "      <td>02-00-00</td>\n",
       "      <td>59 ST</td>\n",
       "      <td>NQR456W</td>\n",
       "      <td>BMT</td>\n",
       "      <td>04/29/2017</td>\n",
       "      <td>04:00:00</td>\n",
       "      <td>REGULAR</td>\n",
       "      <td>0006157777</td>\n",
       "      <td>0002085319</td>\n",
       "    </tr>\n",
       "    <tr>\n",
       "      <th>2</th>\n",
       "      <td>A002</td>\n",
       "      <td>R051</td>\n",
       "      <td>02-00-00</td>\n",
       "      <td>59 ST</td>\n",
       "      <td>NQR456W</td>\n",
       "      <td>BMT</td>\n",
       "      <td>04/29/2017</td>\n",
       "      <td>08:00:00</td>\n",
       "      <td>REGULAR</td>\n",
       "      <td>0006157810</td>\n",
       "      <td>0002085353</td>\n",
       "    </tr>\n",
       "    <tr>\n",
       "      <th>3</th>\n",
       "      <td>A002</td>\n",
       "      <td>R051</td>\n",
       "      <td>02-00-00</td>\n",
       "      <td>59 ST</td>\n",
       "      <td>NQR456W</td>\n",
       "      <td>BMT</td>\n",
       "      <td>04/29/2017</td>\n",
       "      <td>12:00:00</td>\n",
       "      <td>REGULAR</td>\n",
       "      <td>0006157963</td>\n",
       "      <td>0002085453</td>\n",
       "    </tr>\n",
       "    <tr>\n",
       "      <th>4</th>\n",
       "      <td>A002</td>\n",
       "      <td>R051</td>\n",
       "      <td>02-00-00</td>\n",
       "      <td>59 ST</td>\n",
       "      <td>NQR456W</td>\n",
       "      <td>BMT</td>\n",
       "      <td>04/29/2017</td>\n",
       "      <td>16:00:00</td>\n",
       "      <td>REGULAR</td>\n",
       "      <td>0006158212</td>\n",
       "      <td>0002085529</td>\n",
       "    </tr>\n",
       "  </tbody>\n",
       "</table>\n",
       "</div>"
      ],
      "text/plain": [
       "      c_a  unit       scp station linename division        data      time  \\\n",
       "0  [\"A002  R051  02-00-00   59 ST  NQR456W      BMT  04/29/2017  00:00:00   \n",
       "1    A002  R051  02-00-00   59 ST  NQR456W      BMT  04/29/2017  04:00:00   \n",
       "2    A002  R051  02-00-00   59 ST  NQR456W      BMT  04/29/2017  08:00:00   \n",
       "3    A002  R051  02-00-00   59 ST  NQR456W      BMT  04/29/2017  12:00:00   \n",
       "4    A002  R051  02-00-00   59 ST  NQR456W      BMT  04/29/2017  16:00:00   \n",
       "\n",
       "      desc     entries                                                   exits  \n",
       "0  REGULAR  0006157740  0002085315                                              \n",
       "1  REGULAR  0006157777  0002085319                                              \n",
       "2  REGULAR  0006157810  0002085353                                              \n",
       "3  REGULAR  0006157963  0002085453                                              \n",
       "4  REGULAR  0006158212  0002085529                                              "
      ]
     },
     "execution_count": 14,
     "metadata": {},
     "output_type": "execute_result"
    }
   ],
   "source": [
    "df.head()"
   ]
  },
  {
   "cell_type": "code",
   "execution_count": 15,
   "metadata": {
    "scrolled": true
   },
   "outputs": [
    {
     "name": "stdout",
     "output_type": "stream",
     "text": [
      "<class 'pandas.core.frame.DataFrame'>\n",
      "RangeIndex: 2137380 entries, 0 to 2137379\n",
      "Data columns (total 11 columns):\n",
      "c_a         object\n",
      "unit        object\n",
      "scp         object\n",
      "station     object\n",
      "linename    object\n",
      "division    object\n",
      "data        object\n",
      "time        object\n",
      "desc        object\n",
      "entries     object\n",
      "exits       object\n",
      "dtypes: object(11)\n",
      "memory usage: 179.4+ MB\n"
     ]
    }
   ],
   "source": [
    "df.info()"
   ]
  },
  {
   "cell_type": "code",
   "execution_count": null,
   "metadata": {},
   "outputs": [],
   "source": [
    "df.to_csv('turnstile_recordings_summer_2017_2018_clean.csv')"
   ]
  }
 ],
 "metadata": {
  "kernelspec": {
   "display_name": "Python 3",
   "language": "python",
   "name": "python3"
  },
  "language_info": {
   "codemirror_mode": {
    "name": "ipython",
    "version": 3
   },
   "file_extension": ".py",
   "mimetype": "text/x-python",
   "name": "python",
   "nbconvert_exporter": "python",
   "pygments_lexer": "ipython3",
   "version": "3.6.4"
  }
 },
 "nbformat": 4,
 "nbformat_minor": 2
}
